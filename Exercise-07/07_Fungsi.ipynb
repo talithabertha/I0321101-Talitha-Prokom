{
 "cells": [
  {
   "cell_type": "markdown",
   "metadata": {},
   "source": [
    "***\n",
    "<h1 align=\"center\">Exercise 07</h1>\n",
    "\n",
    "***\n",
    "## Memanggil Fungsi\n",
    "\n",
    "### 1. Fungsi tanpa Nilai Balik\n",
    "Buatlah kode seperti contoh berikut pada cell di bawah\n",
    "> Ubah variabel **cetak** sesuai dengan **umur** kalian!\n",
    "\n",
    "![](./images/07_TanpaNB.png)"
   ]
  },
  {
   "cell_type": "code",
   "execution_count": 1,
   "metadata": {},
   "outputs": [
    {
     "name": "stdout",
     "output_type": "stream",
     "text": [
      "Umur 19\n"
     ]
    }
   ],
   "source": [
    "#kerjakan disini\n",
    "cetak = 19\n",
    "print(\"Umur\", cetak)"
   ]
  },
  {
   "cell_type": "markdown",
   "metadata": {},
   "source": [
    "### 2. Fungsi dengan Nilai Balik\n",
    "Buatlah kode seperti contoh berikut pada cell di bawah\n",
    "> Ubah variabel **x** dengan 2 digit terakhir **NIM** kalian!\n",
    "\n",
    "> Ubah variabel **y** dengan **angka 7**!\n",
    "\n",
    "![](./images/07_DenganNB.png)"
   ]
  },
  {
   "cell_type": "code",
   "execution_count": 2,
   "metadata": {},
   "outputs": [
    {
     "name": "stdout",
     "output_type": "stream",
     "text": [
      "x =  1\n",
      "y =  7\n",
      "hasil (x+y)=  8\n"
     ]
    }
   ],
   "source": [
    "#Kerjakan disini!\n",
    "x = 1\n",
    "y = 7\n",
    "print(\"x = \", x)\n",
    "print(\"y = \", y)\n",
    "print(\"hasil (x+y)= \", x+y)"
   ]
  },
  {
   "cell_type": "markdown",
   "metadata": {},
   "source": [
    "## Variabel Global dan Variabel Lokal\n",
    "Buatlah kode seperti contoh berikut pada cell di bawah\n",
    "> Pada variabel global, ubah **nama** menjadi **nama panggilan** kalian!\n",
    "\n",
    "> Pada variabel lokal, ubah **nama** menjadi **nama lengkap** kalian!\n",
    "\n",
    "![](./images/07_GlobalLokal.png)"
   ]
  },
  {
   "cell_type": "code",
   "execution_count": 3,
   "metadata": {},
   "outputs": [
    {
     "name": "stdout",
     "output_type": "stream",
     "text": [
      "nama= Talitha\n",
      "tahun= 2021\n",
      "nama= Talitha Bertha\n",
      "tahun= 21\n"
     ]
    }
   ],
   "source": [
    "#Kerjakan disini\n",
    "nama = \"Talitha\"\n",
    "tahun = 2021\n",
    " \n",
    "def help():\n",
    "    nama = \"Talitha Bertha\"\n",
    "    tahun = \"21\"\n",
    "    print(\"nama= %s\" % nama)\n",
    "    print(\"tahun= %s\" % tahun)\n",
    " \n",
    "print(\"nama= %s\" % nama)\n",
    "print(\"tahun= %s\" % tahun)\n",
    "help()"
   ]
  },
  {
   "cell_type": "markdown",
   "metadata": {},
   "source": [
    "## Parameter di Dalam Fungsi\n",
    "Buatlah kode seperti contoh berikut pada cell di bawah\n",
    "\n",
    "![](./images/07_Parameter.png)"
   ]
  },
  {
   "cell_type": "code",
   "execution_count": 4,
   "metadata": {},
   "outputs": [
    {
     "name": "stdout",
     "output_type": "stream",
     "text": [
      "x=  3.0\n",
      "y=  8.0\n"
     ]
    }
   ],
   "source": [
    "#Kerjakan disini\n",
    "import math\n",
    "def main():\n",
    "    x = math.sqrt(9)\n",
    "    y = math.sqrt(64)\n",
    "    print(\"x= \", x)\n",
    "    print(\"y= \", y)\n",
    "main()"
   ]
  },
  {
   "cell_type": "markdown",
   "metadata": {},
   "source": [
    "## Fungsi di Dalam Fungsi\n",
    "Buatlah kode seperti contoh berikut pada cell di bawah\n",
    "> Ubah parameter **start_minute** dan **start_second** dengan waktu yang kalian inginkan\n",
    "\n",
    "![](./images/07_FungsidlmFungsi.png)"
   ]
  },
  {
   "cell_type": "code",
   "execution_count": 5,
   "metadata": {},
   "outputs": [
    {
     "name": "stdout",
     "output_type": "stream",
     "text": [
      "Done!\n"
     ]
    }
   ],
   "source": [
    "#Kerjakan disini\n",
    "import time\n",
    " \n",
    "def countdownTimer(start_minute, start_second):\n",
    "    total_second = start_minute * 60 + start_second\n",
    "    while total_second:\n",
    "        mins, secs = divmod(total_second, 60)\n",
    "        print(f'{mins:02d}:{secs:02d}', end='\\r')\n",
    "        time.sleep(1)\n",
    "        total_second -= 1\n",
    "def main():\n",
    "    countdownTimer(0,11)\n",
    "    print(\"Done!\")\n",
    " \n",
    "main()"
   ]
  },
  {
   "cell_type": "markdown",
   "metadata": {},
   "source": [
    "## Fungsi yang Mengembalikan Fungsi\n",
    "Buatlah kode seperti contoh berikut pada cell di bawah\n",
    "\n",
    "![](./images/07_Mengembalikan.png)"
   ]
  },
  {
   "cell_type": "code",
   "execution_count": 6,
   "metadata": {},
   "outputs": [
    {
     "name": "stdout",
     "output_type": "stream",
     "text": [
      "HELLO WORLD\n"
     ]
    }
   ],
   "source": [
    "#Kerjakan disini\n",
    "def panggil(func) :\n",
    "    return func\n",
    "def helloworld():\n",
    "    return \"HELLO WORLD\"\n",
    "def main():\n",
    "    s = panggil(helloworld())\n",
    "    print(s)\n",
    "if __name__ == '__main__' :\n",
    "    main()"
   ]
  },
  {
   "cell_type": "markdown",
   "metadata": {},
   "source": [
    "## Membuat Fungsi Tanpa Nama dengan Operator Lambda\n",
    "Buatlah kode seperti contoh berikut pada cell di bawah\n",
    "> Ubah list **daftarnama** menjadi tiap **suku kata nama** kalian dengan campuran huruf kapital dan huruf kecil!\n",
    "\n",
    "![](./images/07_Lambda.png)"
   ]
  },
  {
   "cell_type": "code",
   "execution_count": 7,
   "metadata": {},
   "outputs": [
    {
     "name": "stdout",
     "output_type": "stream",
     "text": [
      "Keadaan Awal\n",
      "['Ta', 'li', 'tha', 'Ber', 'tha']\n",
      "\n",
      "Menggunakan sorted():\n",
      "['Ber', 'Ta', 'li', 'tha', 'tha']\n",
      "\n",
      "Keadaan akhir:\n",
      "['Ber', 'li', 'Ta', 'tha', 'tha']\n"
     ]
    }
   ],
   "source": [
    "#Kerjakan disini\n",
    "def main():\n",
    "    daftarnama = [\"Ta\", \"li\", \"tha\", \"Ber\", \"tha\"]\n",
    "    print(\"Keadaan Awal\")\n",
    "    print(daftarnama)\n",
    " \n",
    "    print(\"\\nMenggunakan sorted():\")\n",
    "    print(sorted(daftarnama))\n",
    " \n",
    "    daftarnama.sort(key=lambda n: n.lower())\n",
    " \n",
    "    print(\"\\nKeadaan akhir:\")\n",
    "    print(daftarnama)\n",
    " \n",
    "if __name__ == '__main__' :\n",
    "    main()\n"
   ]
  },
  {
   "cell_type": "markdown",
   "metadata": {},
   "source": [
    "## Rekursi\n",
    "Buatlah kode seperti contoh berikut pada cell di bawah\n",
    "> Inputkan bilangan bebas pada kotak kolom di bagian atas\n",
    "\n",
    "![](./images/07_Rekursi.png)"
   ]
  },
  {
   "cell_type": "code",
   "execution_count": 8,
   "metadata": {},
   "outputs": [
    {
     "name": "stdout",
     "output_type": "stream",
     "text": [
      "11! = 39916800\n"
     ]
    }
   ],
   "source": [
    "#Kerjakan disini\n",
    "import sys\n",
    " \n",
    "def faktorial(n):\n",
    "    if n == 0:\n",
    "        return 1\n",
    "    else:\n",
    "        return n * faktorial(n-1)\n",
    "def main():\n",
    "    bil = int(input(\"Masukkan bilangan = \"))\n",
    "    if bil<0:\n",
    "        print(\"ERROR\")\n",
    "        sys.exit(1)\n",
    "    print(\"%d! = %d\" % (bil, faktorial(bil)))\n",
    "if __name__ == '__main__':\n",
    "    main()"
   ]
  },
  {
   "cell_type": "markdown",
   "metadata": {},
   "source": [
    "### Membuat kode\n",
    "Buatlah sebuah program yang dapat mengurutkan nama bulan secara alfabetis, dengan ketentuan sebagai berikut:\n",
    "- Data awal berupa list bulan Januari - Desember dengan huruf awal bervariasi (huruf kapital dan kecil)\n",
    "- Urutkan nama menggunakan **sorted()**\n",
    "- Kemudian urutkan nama sesuai abjad tanpa mepedulikan huruf awal (huruf kapital atau huruf kecil)"
   ]
  },
  {
   "cell_type": "code",
   "execution_count": 9,
   "metadata": {},
   "outputs": [
    {
     "name": "stdout",
     "output_type": "stream",
     "text": [
      "Keadaan Awal\n",
      "['Januari', 'Februari', 'maret', 'April', 'Mei', 'juni', 'Juli', 'Agustus', 'September', 'oktober', 'november', 'Desember']\n",
      "\n",
      "Menggunakan sorted():\n",
      "['Agustus', 'April', 'Desember', 'Februari', 'Januari', 'Juli', 'Mei', 'September', 'juni', 'maret', 'november', 'oktober']\n",
      "\n",
      "Keadaan Akhir:\n",
      "['Agustus', 'April', 'Desember', 'Februari', 'Januari', 'Juli', 'juni', 'maret', 'Mei', 'november', 'oktober', 'September']\n"
     ]
    }
   ],
   "source": [
    "def main():\n",
    "    namabulan = [\"Januari\", \"Februari\", \"maret\", \"April\", \"Mei\", \"juni\", \"Juli\", \"Agustus\", \"September\", \"oktober\", \"november\", \"Desember\"]\n",
    "    print(\"Keadaan Awal\")\n",
    "    print(namabulan)\n",
    " \n",
    "    print(\"\\nMenggunakan sorted():\")\n",
    "    print(sorted(namabulan))\n",
    " \n",
    "    namabulan.sort(key=lambda n: n.lower())\n",
    " \n",
    "    print(\"\\nKeadaan Akhir:\")\n",
    "    print(namabulan)\n",
    "if __name__ == '__main__':\n",
    "    main()\n"
   ]
  },
  {
   "cell_type": "markdown",
   "metadata": {},
   "source": [
    "### Cara Pengumpulan\n",
    "\n",
    "1. Buka *New Terminal*\n",
    "2. Pastikan *path* Terminal adalah folder repositori kalian (NIM-Nama-Prokom).\n",
    "3. Tambahkan file yang akan ditrack dengan `git add <nama file>`. Nama file bisa diubah . (titik) yang artinya semua file dalam folder akan ditrack.\n",
    "4. Lakukan commit perubahan dengan `git commit -m <deskripsi>`.\n",
    "5. Lakukan push dengan `git push -u origin <nama branch>`. Nama branch dapat diketahui dengan `git branch`.\n",
    "6. Pastikan Exercise-07 telah terupload dan dapat diakses di repositori dengan mengaksesnya di browser."
   ]
  },
  {
   "cell_type": "markdown",
   "metadata": {},
   "source": [
    "***\n",
    "<h1 align=\"center\">Well Done!!!</h1> \n",
    "\n",
    "***"
   ]
  }
 ],
 "metadata": {
  "interpreter": {
   "hash": "ac59ebe37160ed0dfa835113d9b8498d9f09ceb179beaac4002f036b9467c963"
  },
  "kernelspec": {
   "display_name": "Python 3.9.8 64-bit",
   "language": "python",
   "name": "python3"
  },
  "language_info": {
   "codemirror_mode": {
    "name": "ipython",
    "version": 3
   },
   "file_extension": ".py",
   "mimetype": "text/x-python",
   "name": "python",
   "nbconvert_exporter": "python",
   "pygments_lexer": "ipython3",
   "version": "3.9.7"
  },
  "orig_nbformat": 4
 },
 "nbformat": 4,
 "nbformat_minor": 2
}
