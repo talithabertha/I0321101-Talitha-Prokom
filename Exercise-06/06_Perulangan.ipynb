{
 "cells": [
  {
   "cell_type": "markdown",
   "metadata": {},
   "source": [
    "***\n",
    "<h1 align=\"center\">Exercise 06</h1>\n",
    " \n",
    "***\n",
    "## While Loop\n",
    "## Exercise 6.1\n",
    "isilah bagian rumpang berikut. xx diganti tanggal lahir dan yy diganti menjadi bulan lahir. tandanya menyesuaikan yang lebih besar."
   ]
  },
  {
   "cell_type": "code",
   "execution_count": 1,
   "metadata": {},
   "outputs": [
    {
     "name": "stdout",
     "output_type": "stream",
     "text": [
      "Smile princess, everything gonna be fine\n",
      "Smile princess, everything gonna be fine\n",
      "Smile princess, everything gonna be fine\n",
      "Smile princess, everything gonna be fine\n",
      "Smile princess, everything gonna be fine\n",
      "Smile princess, everything gonna be fine\n",
      "Smile princess, everything gonna be fine\n",
      "Smile princess, everything gonna be fine\n",
      "Smile princess, everything gonna be fine\n",
      "Smile princess, everything gonna be fine\n",
      "Smile princess, everything gonna be fine\n"
     ]
    }
   ],
   "source": [
    "#menentukan banyak pengulangan\n",
    "n = 17\n",
    "\n",
    "#melakukan pengulangan\n",
    "i = 7\n",
    "\n",
    "while i <= n :\n",
    "    print (\"Smile princess, everything gonna be fine\")\n",
    "    #diisi motto kalian\n",
    "    i = i + 1 # sesuaikan dengan atas agar fungsi perulangan dapat berhenti\n"
   ]
  },
  {
   "cell_type": "markdown",
   "metadata": {},
   "source": [
    "## Exercise 6.2\n",
    "\n",
    "Buatlah code seperti yang dicontohkan pada modul agar user dapat menginputkan sendiri jumlah n yang diinginkan"
   ]
  },
  {
   "cell_type": "code",
   "execution_count": 2,
   "metadata": {},
   "outputs": [
    {
     "name": "stdout",
     "output_type": "stream",
     "text": [
      "7\n",
      "8\n",
      "9\n",
      "10\n"
     ]
    }
   ],
   "source": [
    "#Kerjakan disini\n",
    "x = int(input(\"Masukkan nilai x: \"))\n",
    "i = 7\n",
    "while i <= x :\n",
    "    print (i)\n",
    "    i = i+1"
   ]
  },
  {
   "cell_type": "markdown",
   "metadata": {},
   "source": [
    "## Excercise 6.3\n",
    "\n",
    "isilah xx, yy, dan tanda rumpang seperti pada exercise 6.1\n"
   ]
  },
  {
   "cell_type": "code",
   "execution_count": 4,
   "metadata": {},
   "outputs": [
    {
     "name": "stdout",
     "output_type": "stream",
     "text": [
      "Baris ke-17 : Five Feet Apart\n",
      "Baris ke-16 : Five Feet Apart\n",
      "Baris ke-15 : Five Feet Apart\n",
      "Baris ke-14 : Five Feet Apart\n",
      "Baris ke-13 : Five Feet Apart\n",
      "Baris ke-12 : Five Feet Apart\n",
      "Baris ke-11 : Five Feet Apart\n",
      "Baris ke-10 : Five Feet Apart\n",
      "Baris ke-9 : Five Feet Apart\n",
      "Baris ke-8 : Five Feet Apart\n",
      "Baris ke-7 : Five Feet Apart\n"
     ]
    }
   ],
   "source": [
    "#melakukan pengulangan\n",
    "i = 17\n",
    "\n",
    "while i >= 7 :\n",
    "    print (\"Baris ke-%d : Five Feet Apart\"%i)\n",
    "    #isi titik-titik dengan judul film favorit kalian\n",
    "    i = i - 1 "
   ]
  },
  {
   "cell_type": "markdown",
   "metadata": {},
   "source": [
    "## FOR LOOP\n",
    "\n",
    "## Exercise 6.4\n",
    "\n",
    "munculkan 3 dari 7 elemen yang berada di dalam list1 dan list2\n"
   ]
  },
  {
   "cell_type": "code",
   "execution_count": 17,
   "metadata": {},
   "outputs": [
    {
     "name": "stdout",
     "output_type": "stream",
     "text": [
      "2 Nasi goreng Karanganyar\n",
      "3 Ramen Yogyakarta\n",
      "4 Pizza Madiun\n"
     ]
    }
   ],
   "source": [
    "list1 = [\"Bakso\", \"Nasi goreng\", \"Ramen\", \"Pizza\", \"Cheesecake\", \"Sushi\", \"Mie goreng\"] #masukkan 7 list makanan favorit kalian\n",
    "list2 = [\"Surakarta\", \"Karanganyar\", \"Yogyakarta\", \"Madiun\", \"Semarang\", \"Surabaya\", \"Bandung\"] #masukkan 7 list kota favorit kalian\n",
    "\n",
    "for i in range(1,4) :\n",
    "    print(i+1, list1[i], list2[i])"
   ]
  },
  {
   "cell_type": "markdown",
   "metadata": {},
   "source": [
    "## Perulangan Bersarang\n",
    "\n",
    "## Exercise 6.5"
   ]
  },
  {
   "cell_type": "code",
   "execution_count": 7,
   "metadata": {},
   "outputs": [
    {
     "name": "stdout",
     "output_type": "stream",
     "text": [
      "49 \n",
      "56 64 \n",
      "63 72 81 \n",
      "70 80 90 100 \n",
      "77 88 99 110 121 \n",
      "84 96 108 120 132 144 \n",
      "91 104 117 130 143 156 169 \n",
      "98 112 126 140 154 168 182 196 \n",
      "105 120 135 150 165 180 195 210 225 \n",
      "112 128 144 160 176 192 208 224 240 256 \n",
      "119 136 153 170 187 204 221 238 255 272 289 \n"
     ]
    }
   ],
   "source": [
    "i = 7\n",
    "while i <= 17:\n",
    "    j = 7\n",
    "    while j<=i:\n",
    "        print(\"%d \" % (i*j), end = '')\n",
    "        j = j + 1\n",
    "    print()\n",
    "    i+=1"
   ]
  },
  {
   "cell_type": "markdown",
   "metadata": {},
   "source": [
    "## Pernyataan Loncat\n",
    "\n",
    "## Exercise 6.\n",
    "\n",
    "Buatlah fungsi berikut agar muncul angka hingga berhenti sesuai dengan nilai qq\n",
    "qq = angka favorit kalian\n",
    "pp>qq"
   ]
  },
  {
   "cell_type": "code",
   "execution_count": 20,
   "metadata": {},
   "outputs": [
    {
     "name": "stdout",
     "output_type": "stream",
     "text": [
      "0 1 2 3 4 5 6 7 8 9 "
     ]
    }
   ],
   "source": [
    "for i in range(17):\n",
    "    print(i,end= ' ')\n",
    "    if i == 9:\n",
    "        break"
   ]
  },
  {
   "cell_type": "markdown",
   "metadata": {},
   "source": [
    "***\n",
    "<h1 align=\"center\">WELL DONE</h1>\n",
    " \n",
    "***"
   ]
  }
 ],
 "metadata": {
  "interpreter": {
   "hash": "cd08f94adcf3cbae37fe85286256f4c2a10455ca9094fd053e9f3d3f09647223"
  },
  "kernelspec": {
   "display_name": "Python 3.9.7 64-bit",
   "language": "python",
   "name": "python3"
  },
  "language_info": {
   "codemirror_mode": {
    "name": "ipython",
    "version": 3
   },
   "file_extension": ".py",
   "mimetype": "text/x-python",
   "name": "python",
   "nbconvert_exporter": "python",
   "pygments_lexer": "ipython3",
   "version": "3.9.7"
  },
  "orig_nbformat": 4
 },
 "nbformat": 4,
 "nbformat_minor": 2
}
